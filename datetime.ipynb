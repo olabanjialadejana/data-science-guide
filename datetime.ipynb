{
 "cells": [
  {
   "cell_type": "code",
   "execution_count": 1,
   "metadata": {},
   "outputs": [],
   "source": [
    "# Python Standard Library packages\n",
    "# We'll discuss below WHY we alias packages this way\n",
    "import datetime as dt\n",
    "import math\n",
    "import time as tm\n",
    "\n",
    "# Third-party pacjage for time zone handling, we'll discuss below!\n",
    "import pytz"
   ]
  },
  {
   "attachments": {},
   "cell_type": "markdown",
   "metadata": {},
   "source": [
    "### <span style=\"color: red;\">Time</span> Versus <span style=\"color: red;\">Datetime</span> modules"
   ]
  },
  {
   "attachments": {},
   "cell_type": "markdown",
   "metadata": {},
   "source": [
    "#### Some core terminology\n",
    "\n",
    "Every Python installation comes with a Standard Library, which includes many helpful modules; in these examples, we cover the time and datetime modules. Unfortunately, the use of dates and times in Python can be disorienting. There are many different terms used in Python relating to dates and times, and many such terms apply to multiple scopes, such as modules, classes, and functions. For example:\n",
    "\n",
    "* <span style=\"color:red;\">datetime</span> module has a <span style=\"color:red;\">datetime</span> class\n",
    "\n",
    "* <span style=\"color:red;\">datetime</span> module has a <span style=\"color:red;\">time</span> class\n",
    "\n",
    "* <span style=\"color:red;\">datetime</span> module has a <span style=\"color:red;\">date</span> class\n",
    "\n",
    "* <span style=\"color:red;\">time</span> module has a <span style=\"color:red;\">time</span> function, which returns (almost always) Unix time\n",
    "\n",
    "* <span style=\"color:red;\">datetime</span> class has a <span style=\"color:red;\">date</span> method, which returns a <span style=\"color:red;\">date</span> object\n",
    "\n",
    "* <span style=\"color:red;\">datetime</span> class has a <span style=\"color:red;\">time</span> method, which returns a <span style=\"color:red;\">time</span> object\n",
    "\n",
    "This confusion can be partially alleviated by aliasing our imported modules, we did above:"
   ]
  },
  {
   "cell_type": "code",
   "execution_count": 2,
   "metadata": {},
   "outputs": [],
   "source": [
    "import datetime as dt\n",
    "import time as tm"
   ]
  },
  {
   "attachments": {},
   "cell_type": "markdown",
   "metadata": {},
   "source": [
    "We can now reference the <span style='color:red'>datetime</span> module (aliased to <span style='color:red'>dt</span>) and datetime class unambiguously."
   ]
  },
  {
   "cell_type": "code",
   "execution_count": 5,
   "metadata": {},
   "outputs": [
    {
     "name": "stdout",
     "output_type": "stream",
     "text": [
      "2021-03-14 15:09:26\n"
     ]
    }
   ],
   "source": [
    "pisecond = dt.datetime(2021, 3, 14, 15, 9, 26)\n",
    "print(pisecond)"
   ]
  },
  {
   "attachments": {},
   "cell_type": "markdown",
   "metadata": {},
   "source": [
    "Our variable <span style='color:red'>pisecond</span> now stores a particular date and time, which just happens to be \n",
    "-day 2021 down to the nearest second (3.1415926…)."
   ]
  },
  {
   "cell_type": "code",
   "execution_count": 6,
   "metadata": {},
   "outputs": [
    {
     "name": "stdout",
     "output_type": "stream",
     "text": [
      "1686417466.1912215\n"
     ]
    }
   ],
   "source": [
    "now = tm.time()\n",
    "print(now)"
   ]
  },
  {
   "attachments": {},
   "cell_type": "markdown",
   "metadata": {},
   "source": [
    "The variable <span style='color:red'>now</span> holds the current time in seconds since January 1, 1970 00:00 UTC. For more information on this important, but seemingly esoteric time format, see the section on this page called “What is Unix Time”. In addition, if you are not familiar with UTC, there is a section on this page called “What is UTC”."
   ]
  },
  {
   "attachments": {},
   "cell_type": "markdown",
   "metadata": {},
   "source": [
    "#### <span style='color:red'>time</span> module\n",
    "\n",
    "The <span style='color:red'>time</span> module is well-suited for measuring Unix time. For example, when you are calculating how long it takes a Python function to run, you can employ the <span style='color:red'>time()</span> function, which can be found in the <span style='color:red'>time</span> module, to obtain Unix time before and after the function completes. You can then take the difference of those two times to determine how long the function was running. (Measuring the runtime of a block of code this way is known as “benchmarking”.)"
   ]
  },
  {
   "cell_type": "code",
   "execution_count": 15,
   "metadata": {},
   "outputs": [
    {
     "name": "stdout",
     "output_type": "stream",
     "text": [
      "The benchmark took 1.0087783336639404 seconds\n"
     ]
    }
   ],
   "source": [
    "start = tm.time()\n",
    "tm.sleep(1) # The sleep function will stop the program for n seconds\n",
    "end = tm.time()\n",
    "diff = end - start\n",
    "print(f'The benchmark took {diff} seconds')"
   ]
  },
  {
   "attachments": {},
   "cell_type": "markdown",
   "metadata": {},
   "source": [
    "You can use the <span style='color:red'>timeit</span> module and the <span style='color:red'>timeit</span> Jupyter magic for more accurate benchmarking. Documentation on these can be found here (https://docs.python.org/3/library/timeit.html)."
   ]
  },
  {
   "attachments": {},
   "cell_type": "markdown",
   "metadata": {},
   "source": [
    "### What is Unix Time?\n",
    "\n",
    "Unix time is an example of system time, which is how a computer tracks the passage of time. Computers do not inherently know human representations of time; as such, they store time as a large binary number, indicating a number of time units after a set date and time. This is much easier for a computer to keep track of. In the case of Unix time, the time unit is seconds, and the set date and time is the epoch. Therefore, Unix time is the number of seconds since the epoch. The epoch is defined as January 1, 1970 00:00 UTC. This is quite confusing for humans, but again, computers store time in a way that makes sense for them. It is represented “under the hood” as a floating point number which is how computers represent real (ℝ) numbers."
   ]
  },
  {
   "attachments": {},
   "cell_type": "markdown",
   "metadata": {},
   "source": [
    "#### <span style='color:red'>datetime</span> module\n",
    "\n",
    "The <span style='color:red'>datetime</span> module handles time with the Gregorian calendar (the calendar we, as humans, are familiar with); it is independent of Unix time. The <span style='color:red'>datetime</span> module uses an object-oriented approach; it contains the <span style='color:red'>date, time, datetime, timedelta, and tzinfo</span> classes.\n",
    "\n",
    "* <span style='color:red'>date</span> class represents the day, month, and year\n",
    "\n",
    "* <span style='color:red'>time</span> class represents the time of day\n",
    "\n",
    "* <span style='color:red'>datetime</span> class is a combination of the date and time classes\n",
    "\n",
    "* <span style='color:red'>timedelta</span> class represents a time duration\n",
    "\n",
    "* <span style='color:red'>tzinfo</span> class represents time zones, and is an abstract class.\n",
    "\n",
    "The <span style='color:red'>datetime</span> module is effective for:\n",
    "\n",
    "* performing date and time arithmetic and calculating time duration\n",
    "\n",
    "* reading and writing date and time strings with various formats\n",
    "\n",
    "* handling time zones (with the help of third-party libraries)\n",
    "\n",
    "The <span style='color:red'>time</span> and <span style='color:red'>datetime</span> modules overlap in functionality, but in your geoscientific work, you will probably be using the <span style='color:red'>datetime</span> module more than the <span style='color:red'>time</span> module.\n",
    "\n",
    "We’ll delve into more details below, but here’s a quick example of writing out our <span style='color:red'>pisecond</span> datetime object as a formatted string. Suppose we wanted to write out just the date, and write it in the month/day/year format typically used in the US. We can do this using the <span style='color:red'>strftime()</span> method. This method formats datetime objects using format specifiers. An example of its usage is shown below:"
   ]
  },
  {
   "cell_type": "code",
   "execution_count": 19,
   "metadata": {},
   "outputs": [
    {
     "name": "stdout",
     "output_type": "stream",
     "text": [
      "Pi day occurred on: 03/14/2021\n"
     ]
    }
   ],
   "source": [
    "print(f\"Pi day occurred on: {pisecond.strftime(format='%m/%d/%Y')}\")"
   ]
  },
  {
   "attachments": {},
   "cell_type": "markdown",
   "metadata": {},
   "source": [
    "### Reading and writing dates and times\n",
    "\n",
    "#### Parsing lightning data timestamps with the <span style='color:red'>datetime.strptime</span> method\n",
    "\n",
    "In this example, we are analyzing US NLDN lightning data (https://ghrc.nsstc.nasa.gov/uso/ds_docs/vaiconus/vaiconus_dataset.html). Here is a sample row of data:"
   ]
  },
  {
   "attachments": {},
   "cell_type": "markdown",
   "metadata": {},
   "source": [
    "06/27/07 16:18:21.898 18.739 -88.184 0.0 kA 0 1.0 0.4 2.5 8 1.2 13 G"
   ]
  },
  {
   "attachments": {},
   "cell_type": "markdown",
   "metadata": {},
   "source": [
    "Part of the task involves parsing the <span style='color:red'>06/27/07 16:18:21.898</span> time string into a <span style='color:red'>datetime</span> object. (Although it is outside the scope of this page’s tutorial, a full description of this lightning data format can be found here.) In order to parse this string or others that follow the same format, you will need to employ the datetime.strptime() method from the <span style='color:red'>datetime</span> module. This method takes two arguments:\n",
    "\n",
    "1. the date/time string you wish to parse\n",
    "\n",
    "2. the format which describes exactly how the date and time are arranged.\n",
    "\n",
    "The full range of formatting options for strftime() and strptime() is described in the Python documentation. In most cases, finding the correct formatting options inherently takes some degree of experimentation to get right. This is a situation where Python shines; you can use the IPython interpreter, or a Jupyter notebook, to quickly test numerous formatting options. Beyond the official documentation, Google and Stack Overflow are your friends in this process.\n",
    "\n",
    "After some trial and error (as described above), you can find that, in this example, the format string <span style='color:red'>'%m/%d/%y %H:%M:%S.%f'</span> will convert the date and time in the data to the correct format."
   ]
  },
  {
   "cell_type": "code",
   "execution_count": 22,
   "metadata": {},
   "outputs": [
    {
     "name": "stdout",
     "output_type": "stream",
     "text": [
      "2007-06-27 16:18:21.898000\n"
     ]
    }
   ],
   "source": [
    "strike_time = dt.datetime.strptime('06/27/07 16:18:21.898', '%m/%d/%y %H:%M:%S.%f')\n",
    "# print strike_time to see if we have properly parsed our time\n",
    "print(strike_time)"
   ]
  },
  {
   "attachments": {},
   "cell_type": "markdown",
   "metadata": {},
   "source": [
    "### Example usage of the <span style='color:red'>datetime</span> object\n",
    "\n",
    "Why did we bother doing this? This is a deceptively simple example; it may appear that we only took the string 06/27/07 16:18:21.898 and reformatted it to 2007-06-27 16:18:21.898000.\n",
    "\n",
    "However, our new variable, strike_time, is in fact a datetime object that we can manipulate in many useful ways.\n",
    "\n",
    "Here are a few quick examples of the advantages of a datetime object:\n",
    "\n",
    "#### Controlling the output format with <span style='color:red'>strftime()</span>\n",
    "\n",
    "The following example shows how to write out the time only, without a date, in a particular format:\n",
    "\n",
    "\n",
    "16h 18m 21s"
   ]
  },
  {
   "attachments": {},
   "cell_type": "markdown",
   "metadata": {},
   "source": [
    "We can do this with the datetime.strftime() method, which takes a format identical to the one we employed for <span style='color:red'>strptime()</span>. After some trial and error from the IPython interpreter, we arrive at <span style='color:red'>'%Hh %Mm %Ss'</span>:"
   ]
  },
  {
   "cell_type": "code",
   "execution_count": 23,
   "metadata": {},
   "outputs": [
    {
     "name": "stdout",
     "output_type": "stream",
     "text": [
      "16h 18m 21s\n"
     ]
    }
   ],
   "source": [
    "print(strike_time.strftime(format='%Hh %Mm %Ss'))"
   ]
  },
  {
   "attachments": {},
   "cell_type": "markdown",
   "metadata": {},
   "source": [
    "##### A simple query of just the year:\n",
    "\n",
    "Here’s a useful shortcut that doesn’t even need a format specifier:"
   ]
  },
  {
   "cell_type": "code",
   "execution_count": 24,
   "metadata": {},
   "outputs": [
    {
     "data": {
      "text/plain": [
       "2007"
      ]
     },
     "execution_count": 24,
     "metadata": {},
     "output_type": "execute_result"
    }
   ],
   "source": [
    "strike_time.year"
   ]
  },
  {
   "attachments": {},
   "cell_type": "markdown",
   "metadata": {},
   "source": [
    "This works because the <span style='color:red'>datetime</span> object stores the data as individual attributes: <span style='color:red'>year, month, day, hour, minute, second, microsecond.</span>"
   ]
  },
  {
   "attachments": {},
   "cell_type": "markdown",
   "metadata": {},
   "source": [
    "##### See how many days have elapsed since the strike:\n",
    "\n",
    "This example shows how to find the number of days since an event; in this case, the lightning strike described earlier:"
   ]
  },
  {
   "cell_type": "code",
   "execution_count": 25,
   "metadata": {},
   "outputs": [
    {
     "data": {
      "text/plain": [
       "5828"
      ]
     },
     "execution_count": 25,
     "metadata": {},
     "output_type": "execute_result"
    }
   ],
   "source": [
    "(dt.datetime.now() - strike_time).days"
   ]
  },
  {
   "attachments": {},
   "cell_type": "markdown",
   "metadata": {},
   "source": [
    "The above example illustrates some simple arithmetic with <span style='color:red'>datetime</span> objects. This commonly-used feature will be covered in more detail in the next section."
   ]
  },
  {
   "attachments": {},
   "cell_type": "markdown",
   "metadata": {},
   "source": [
    "### Calculating coastal tides with the <span style='color:red'>timedelta</span> class\n",
    "\n",
    "In these examples, we will look at current data pertaining to coastal tides during a tropical cyclone storm surge (http://www.nhc.noaa.gov/surge/).\n",
    "\n",
    "The lunar day is 24 hours and 50 minutes; there are two low tides and two high tides in that time duration. If we know the time of the current high tide, we can easily calculate the occurrence of the next low and high tides by using the timedelta class (https://docs.python.org/3/library/datetime.html#timedelta-objects). (In reality, the exact time of tides is influenced by local coastal effects, in addition to the laws of celestial mechanics, but we will ignore that fact for this exercise.)\n",
    "\n",
    "The <span style='color:red'>timedelta</span> class is initialized by supplying time duration, usually supplied with keyword arguments, to clearly express the length of time. The <span style='color:red'>timedelta</span> class allows you to perform arithmetic with dates and times using standard operators <span style='color:red'>(i.e., +, -, *, /)</span>. You can use these operators with a <span style='color:red'>timedelta</span> object, and either another <span style='color:red'>timedelta</span> object, a datetime object, or a numeric literal, to obtain objects representing new dates and times.\n",
    "\n",
    "This convenient language feature is known as operator overloading (https://en.wikipedia.org/wiki/Operator_overloading), and is another example of Python offering built-in functionality to make programming easier. (In some other languages, such as Java, you would have to call a method to perform such operations, which significantly obfuscates the code.)\n",
    "\n",
    "In addition, you can use these arithmetic operators with two datetime objects, as shown above with lightning-strike data, to create <span style='color:red'>timedelta</span> objects. Let’s examine all these features in the following code block."
   ]
  },
  {
   "cell_type": "code",
   "execution_count": 26,
   "metadata": {},
   "outputs": [
    {
     "name": "stdout",
     "output_type": "stream",
     "text": [
      "The time between high and low tide is 6:12:30.\n",
      "The current high tide is 2016-06-01 04:38:00.\n",
      "The next low tide is 2016-06-01 10:50:30.\n",
      "The next high tide 2016-06-01 17:03:00.\n",
      "The tide length is 12:25:00.\n",
      "The type of the 'tide_length' variable is <class 'datetime.timedelta'>.\n"
     ]
    }
   ],
   "source": [
    "high_tide = dt.datetime(2016, 6, 1, 4, 38, 0)\n",
    "lunar_day = dt.timedelta(hours=24, minutes=50)\n",
    "tide_duration = lunar_day / 4  # Here we do some arithmetic on the timedelta object!\n",
    "next_low_tide = (high_tide + tide_duration)  # Here we add a timedelta object to a datetime object\n",
    "next_high_tide = high_tide + (2 * tide_duration)  # and so on\n",
    "tide_length = next_high_tide - high_tide\n",
    "print(f\"The time between high and low tide is {tide_duration}.\")\n",
    "print(f\"The current high tide is {high_tide}.\")\n",
    "print(f\"The next low tide is {next_low_tide}.\")\n",
    "print(f\"The next high tide {next_high_tide}.\")\n",
    "print(f\"The tide length is {tide_length}.\")\n",
    "print(f\"The type of the 'tide_length' variable is {type(tide_length)}.\")"
   ]
  },
  {
   "attachments": {},
   "cell_type": "markdown",
   "metadata": {},
   "source": [
    "To illustrate that the difference of two times yields a <span style='color:red'>timedelta</span> object, we can use a built-in Python function called <span style='color:red'>type()</span>, which returns the type of its argument. In the above example, we call <span style='color:red'>type()</span> in the last print statement, and it returns the type of <span style='color:red'>timedelta</span>."
   ]
  },
  {
   "attachments": {},
   "cell_type": "markdown",
   "metadata": {},
   "source": [
    "### Dealing with Time Zones\n",
    "\n",
    "Time zones can be a source of confusion and frustration in geoscientific data and in computer programming in general. Core date and time libraries in various programming languages, including Python, inevitably have design flaws, relating to time zones, date and time formatting, and other inherently complex issues. Third-party libraries are often created to fix the limitations of the core libraries, but this approach is frequently unsuccessful. To avoid time-zone-related issues, it is best to handle data in UTC; if data cannot be handled in UTC, efforts should be made to consistently use the same time zone for all data. However, this is not always possible; events such as severe weather are expected to be reported in a local time zone, which is not always consistent.\n",
    "\n",
    "#### What is UTC?\n",
    "\n",
    "“UTC” is a combination of the French and English abbreviations for Coordinated Universal Time. It is, in practice, equivalent to Greenwich Mean Time (GMT), the time zone at 0 degrees longitude. (The prime meridian, 0 degrees longitude, runs through Greenwich, a district of London, England.) In geoscientific data, times are often in UTC, although you should always verify that this is actually true to avoid time zone issues.\n",
    "\n",
    "##### Time Zone Naive Versus Time Zone Aware <span style='color:red'>datetime</span> Objects\n",
    "\n",
    "When you create <span style='color:red'>datetime</span> objects in Python, they are “time zone naive”, or, if the subject of time zones is assumed, simply “naive”. This means that they are unaware of the time zone of the date and time they represent; time zone naive is the opposite of time zone aware. In many situations, you can happily go forward without this detail getting in the way of your work. As the Python documentation states (https://docs.python.org/3/library/datetime.html#aware-and-naive-objects):\n",
    "\n",
    "Naive objects are easy to understand and to work with, at the cost of ignoring some aspects of reality.\n",
    "\n",
    "However, if you wish to convey time zone information, you will have to make your <span style='color:red'>datetime</span> objects time zone aware. The <span style='color:red'>datetime</span> library is able to easily convert the time zone to UTC, also converting the object to a time zone aware state, as shown below:"
   ]
  },
  {
   "cell_type": "code",
   "execution_count": 27,
   "metadata": {},
   "outputs": [
    {
     "name": "stdout",
     "output_type": "stream",
     "text": [
      "I am time zone naive 2023-06-12 07:23:21.768991.\n",
      "I am time zone aware 2023-06-12 06:23:21.768991+00:00.\n"
     ]
    }
   ],
   "source": [
    "naive = dt.datetime.now()\n",
    "aware = dt.datetime.now(dt.timezone.utc)\n",
    "print(f\"I am time zone naive {naive}.\")\n",
    "print(f\"I am time zone aware {aware}.\")"
   ]
  },
  {
   "attachments": {},
   "cell_type": "markdown",
   "metadata": {},
   "source": [
    "Notice that <span style='color:red'>aware</span> has <span style='color:red'>+00:00</span> appended at the end, indicating zero hours offset from UTC.\n",
    "\n",
    "Our <span style='color:red'>naive</span> object shows the local time on whatever computer was used to run this code. If you’re reading this online, chances are the code was executed on a cloud server that already uses UTC. If this is the case, <span style='color:red'>naive</span> and <span style='color:red'>aware</span> will differ only at the microsecond level, due to round-off error.\n",
    "\n",
    "In the code above, we used <span style='color:red'>dt.timezone.utc</span> to initialize the UTC timezone for our <span style='color:red'>aware</span> object. Unfortunately, at this time, the Python Standard Library does not fully support initializing datetime objects with arbitrary time zones; it also does not fully support conversions between time zones for datetime objects. However, there exist third-party libraries that provide some of this functionality; one such library is covered below."
   ]
  },
  {
   "attachments": {},
   "cell_type": "markdown",
   "metadata": {},
   "source": [
    "### Full time zone support with the <span style='color:red'>pytz</span> module\n",
    "\n",
    "For improved handling of time zones in Python, you will need the third-party pytz module, whose classes build upon, or, in object-oriented programming terms, inherit from, classes from the <span style='color:red'>datetime</span> module.\n",
    "\n",
    "In this next example, we repeat the above exercise, but this time, we use a method from the <span style='color:red'>pytz</span> module to initialize the <span style='color:red'>aware</span> object in a different time zone:"
   ]
  },
  {
   "cell_type": "code",
   "execution_count": 28,
   "metadata": {},
   "outputs": [
    {
     "name": "stdout",
     "output_type": "stream",
     "text": [
      "I am time zone naive: 2023-06-12 07:28:56.357596.\n",
      "I am time zone aware: 2023-06-12 00:28:56.958736-06:00.\n"
     ]
    }
   ],
   "source": [
    "naive = dt.datetime.now()\n",
    "aware = dt.datetime.now(pytz.timezone('US/Mountain'))\n",
    "print(f\"I am time zone naive: {naive}.\")\n",
    "print(f\"I am time zone aware: {aware}.\")"
   ]
  },
  {
   "attachments": {},
   "cell_type": "markdown",
   "metadata": {},
   "source": [
    "The <span style='color:red'>pytz.timezone()</span> method takes a time zone string; if this string is formatted correctly, the method returns a <span style='color:red'>tzinfo</span> object, which can be used when making a datetime object time zone aware. This initializes the time zone for the newly aware object to a specific time zone matching the time zone string. The <span style='color:red'>-06:00</span>indicates that we are now operating in a time zone six hours behind UTC."
   ]
  },
  {
   "attachments": {},
   "cell_type": "markdown",
   "metadata": {},
   "source": [
    "### Print Time with a Different Time Zone\n",
    "\n",
    "If you have data that are in UTC, and wish to convert them to another time zone (in this example, US Mountain Time Zone), you will again need to make use of the <span style='color:red'>pytz</span> module.\n",
    "\n",
    "First, we will create a new datetime object with the utcnow() method. Despite the name of this method, the newly created object is time zone naive. Therefore, we must invoke the object’s replace() method and specify UTC with a <span style='color:red'>tzinfo</span> object in order to make the object time zone aware. As described above, we can use the <span style='color:red'>pytz</span> module’s timezone() method to create a new <span style='color:red'>tzinfo</span> object, again using the time zone string ‘US/Mountain’ (US Mountain Time Zone). To convert the datetime object <span style='color:red'>utc</span> from UTC to Mountain Time, we can then run the astimezone() method."
   ]
  },
  {
   "cell_type": "code",
   "execution_count": 32,
   "metadata": {},
   "outputs": [
    {
     "name": "stdout",
     "output_type": "stream",
     "text": [
      "The UTC time is June 12, 2023, 06:35AM.\n",
      "The 'US/Mountain' time is June 12, 2023, 12:35AM.\n"
     ]
    }
   ],
   "source": [
    "utc = dt.datetime.utcnow().replace(tzinfo=pytz.utc)\n",
    "print(\"The UTC time is {}.\".format(utc.strftime('%B %d, %Y, %I:%M%p')))\n",
    "mountaintz = pytz.timezone(\"US/Mountain\")\n",
    "ny = utc.astimezone(mountaintz)\n",
    "print(\"The 'US/Mountain' time is {}.\".format(ny.strftime('%B %d, %Y, %I:%M%p')))"
   ]
  },
  {
   "attachments": {},
   "cell_type": "markdown",
   "metadata": {},
   "source": [
    "In the above example, we also use the <span style='color:red'>strftime()</span> method to format the date and time string in a human-friendly format."
   ]
  },
  {
   "attachments": {},
   "cell_type": "markdown",
   "metadata": {},
   "source": [
    "## Summary\n",
    "\n",
    "The Python Standard Library contains several modules for dealing with date and time data. We saw how we can avoid some name ambiguities by aliasing the module names; this can be done with import statements like <span style='color:red'>import</span> datetime as dt and <span style='color:red'>import</span> time as tm. The tm.time()</span> method just returns the current Unix time in seconds – which can be useful for measuring elapsed time, but not all that useful for working with geophysical data.\n",
    "\n",
    "The <span style='color:red'>datetime</span> module contains various classes for storing, converting, comparing, and formatting date and time data on the Gregorian calendar. We saw how we can parse data files with date and time strings into <span style='color:red'>dt.datetime</span> objects using the <span style='color:red'>dt.datetime.strptime()</span> method. We also saw how to perform arithmetic using date and time data; this uses the <span style='color:red'>dt.timedelta</span> class to represent intervals of time.\n",
    "\n",
    "Finally, we looked at using the third-party pytz module to handle time zone awareness and conversions."
   ]
  }
 ],
 "metadata": {
  "kernelspec": {
   "display_name": "pythia",
   "language": "python",
   "name": "python3"
  },
  "language_info": {
   "codemirror_mode": {
    "name": "ipython",
    "version": 3
   },
   "file_extension": ".py",
   "mimetype": "text/x-python",
   "name": "python",
   "nbconvert_exporter": "python",
   "pygments_lexer": "ipython3",
   "version": "3.10.11"
  },
  "orig_nbformat": 4
 },
 "nbformat": 4,
 "nbformat_minor": 2
}
