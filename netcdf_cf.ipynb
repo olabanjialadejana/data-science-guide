{
 "cells": [
  {
   "cell_type": "code",
   "execution_count": 19,
   "metadata": {},
   "outputs": [],
   "source": [
    "from datetime import datetime, timedelta\n",
    "\n",
    "import numpy as np\n",
    "from cftime import date2num\n",
    "from netCDF4 import Dataset\n",
    "from pyproj import Proj"
   ]
  },
  {
   "attachments": {},
   "cell_type": "markdown",
   "metadata": {},
   "source": [
    "### Gridded Data\n",
    "\n",
    "Let’s say we’re working with some numerical weather forecast model output. First, we need to store the data in the netCDF format. Second, we need to ensure that the metadata follows the Climate and Forecasting conventions. These steps ensure that a dataset is available to as many scientific data tools as is possible. The examples in this section illustrate these steps in detail.\n",
    "\n",
    "To start, let’s assume the following about our data:\n",
    "\n",
    "* There are three spatial dimensions (<span style='color:red'>x</span>, <span style='color:red'>y</span>, and <span style='color:red'>press</span>) and one temporal dimension (<span style='color:red'>times</span>).\n",
    "\n",
    "* The native coordinate system of the model is on a regular 3km x 3km grid (<span style='color:red'>x</span> and <span style='color:red'>y</span>) that represents the Earth on a Lambert conformal projection.\n",
    "\n",
    "* The vertical dimension (<span style='color:red'>press</span>) consists of several discrete pressure levels in units of hPa.\n",
    "\n",
    "* The time dimension consists of twelve consecutive hours (<span style='color:red'>times</span>), beginning at 2200 UTC on the current day.\n",
    "\n",
    "The following code generates the dimensional arrays just discussed:"
   ]
  },
  {
   "cell_type": "code",
   "execution_count": 20,
   "metadata": {},
   "outputs": [],
   "source": [
    "start = datetime.utcnow().replace(hour=22, minute=0, second=0, microsecond=0)\n",
    "times = np.array([start + timedelta(hours=h) for h in range(13)])\n",
    "\n",
    "x = np.arange(-150, 153, 3)\n",
    "y = np.arange(-100, 100, 3)\n",
    "\n",
    "press = np.array([1000, 925, 850, 700, 500, 300, 250])"
   ]
  },
  {
   "attachments": {},
   "cell_type": "markdown",
   "metadata": {},
   "source": [
    "##### Code Explanation\n",
    "\n",
    "Let's break down the code:\n",
    "\n",
    "1. start = datetime.utcnow().replace(hour=22, minute=0, second=0, microsecond=0)\n",
    "\n",
    "* This line uses the datetime module to get the current UTC time (datetime.utcnow()).\n",
    "* The replace() method is used to set the hour, minute, second, and microsecond components of the datetime object to 22, 0, 0, and 0, respectively.\n",
    "* The resulting datetime object is assigned to the variable start. It represents a specific point in time (UTC) with the hour set to 22:00:00.\n",
    "2. times = np.array([start + timedelta(hours=h) for h in range(13)])\n",
    "\n",
    "* This line creates a NumPy array called times.\n",
    "* A list comprehension is used to generate a sequence of datetime objects.\n",
    "* For each value h in the range range(13) (which generates values from 0 to 12), a timedelta of h hours is added to the start time, resulting in a new datetime object.\n",
    "* The list of datetime objects is then converted into a NumPy array using np.array(), and the resulting array is assigned to the variable times.\n",
    "3. x = np.arange(-150, 153, 3)\n",
    "\n",
    "* This line creates a NumPy array called x using the arange() function.\n",
    "* The array contains values starting from -150 and incrementing by 3 up to, but not including, 153.\n",
    "* The resulting array represents a range of x-coordinates.\n",
    "4. y = np.arange(-100, 100, 3)\n",
    "\n",
    "* This line creates a NumPy array called y using the arange() function.\n",
    "* The array contains values starting from -100 and incrementing by 3 up to, but not including, 100.\n",
    "* The resulting array represents a range of y-coordinates.\n",
    "5. press = np.array([1000, 925, 850, 700, 500, 300, 250])\n",
    "\n",
    "* This line creates a NumPy array called press.\n",
    "* The array is initialized with a list of pressure values.\n",
    "* The resulting array represents a set of pressure levels.\n",
    "6. temps = np.random.randn(times.size, press.size, y.size, x.size)\n",
    "\n",
    "* This line creates a multi-dimensional NumPy array called temps using the random.randn() function.\n",
    "* The size of each dimension of temps is determined by the sizes of the times, press, y, and x arrays.\n",
    "* The random.randn() function generates random values from a standard normal distribution.\n",
    "* The resulting temps array represents a collection of temperature values for different time, pressure, y-coordinate, and x-coordinate combinations.\n",
    "\n",
    "Overall, this code sets up and populates NumPy arrays to store weather-related data, including time, x and y coordinates, pressure levels, and randomly generated temperature values."
   ]
  },
  {
   "attachments": {},
   "cell_type": "markdown",
   "metadata": {},
   "source": [
    "In addition to dimensional arrays, we also need a variable of interest, which holds the data values at each unique dimensional index. In these examples, this variable is called <span style='color:red'>temps</span>, and holds temperature data. Note that the dimensions correspond to the ones we just created above."
   ]
  },
  {
   "cell_type": "code",
   "execution_count": 13,
   "metadata": {},
   "outputs": [],
   "source": [
    "temps = np.random.randn(times.size, press.size, y.size, x.size)"
   ]
  },
  {
   "attachments": {},
   "cell_type": "markdown",
   "metadata": {},
   "source": [
    "### Creating the file and dimensions\n",
    "\n",
    "The first step in setting up a new netCDF file is to create a new file in netCDF format and set up the shared dimensions we’ll be using in the file. We’ll be using the <span style='color:red'>netCDF4</span> library to do all of the requisite netCDF API calls."
   ]
  },
  {
   "cell_type": "code",
   "execution_count": 26,
   "metadata": {},
   "outputs": [],
   "source": [
    "nc = Dataset('forecast_model1.nc', 'a', format='NETCDF4_CLASSIC', diskless=True)"
   ]
  },
  {
   "attachments": {},
   "cell_type": "markdown",
   "metadata": {},
   "source": [
    "<b>Info</b>\n",
    "\n",
    "The netCDF file created in the above example resides in memory, not disk, due to the <span style='color:red'>diskless=True</span> argument. In order to create this file on disk, you must either remove this argument, or add the <span style='color:red'>persist=True</span> argument."
   ]
  },
  {
   "attachments": {},
   "cell_type": "markdown",
   "metadata": {},
   "source": [
    "<span style='color:red'><b>Danger</b></span>\n",
    "\n",
    "If you open an existing file with <span style='color:red'>‘w’</span> as the second argument, any data already in the file will be overwritten. If you would like to edit the file, or add to it, open it using <span style='color:red'>‘a’</span> as the second argument."
   ]
  },
  {
   "cell_type": "code",
   "execution_count": 27,
   "metadata": {},
   "outputs": [],
   "source": [
    "nc.Conventions = 'CF-1.7'\n",
    "nc.title = 'Forecast model run'\n",
    "nc.institution = 'Unidata'\n",
    "nc.source = 'WRF-1.5'\n",
    "nc.history = str(datetime.utcnow()) + ' Python'\n",
    "nc.references = ''\n",
    "nc.comment = ''"
   ]
  },
  {
   "attachments": {},
   "cell_type": "markdown",
   "metadata": {},
   "source": [
    "This next example shows a plain-text representation of our netCDF file as it exists currently:"
   ]
  },
  {
   "cell_type": "code",
   "execution_count": null,
   "metadata": {},
   "outputs": [],
   "source": [
    "netcdf forecast_model {\n",
    "  attributes:\n",
    "    :Conventions = \"CF-1.7\" ;\n",
    "    :title = \"Forecast model run\" ;\n",
    "    :institution = \"Unidata\" ;\n",
    "    :source = \"WRF-1.5\" ;\n",
    "    :history = \"2019-07-16 02:21:52.005718 Python\" ;\n",
    "    :references = \"\" ;\n",
    "    :comment = \"\" ;\n",
    "}"
   ]
  },
  {
   "attachments": {},
   "cell_type": "markdown",
   "metadata": {},
   "source": [
    "<b>info</b>\n",
    "\n",
    "This plain-text representation is known as netCDF Common Data Format Language, or <b>CDL</b>."
   ]
  },
  {
   "attachments": {},
   "cell_type": "markdown",
   "metadata": {},
   "source": [
    "Variables are an important part of every netCDF file; they are used to define data fields. However, before we can add any variables to our file, we must first define the dimensions of the data. In this example, we create dimensions called <span style='color:red'>x</span>, <span style='color:red'>y</span>, and <span style='color:red'>pressure</span>, and set the size of each dimension to the size of the corresponding data array. We then create an additional dimension, <span style='color:red'>forecast_time</span>, and set the size as None. This defines the dimension as “unlimited”, meaning that if additional data values are added later, the netCDF file grows along this dimension."
   ]
  },
  {
   "cell_type": "code",
   "execution_count": 29,
   "metadata": {},
   "outputs": [
    {
     "data": {
      "text/plain": [
       "<class 'netCDF4._netCDF4.Dataset'>\n",
       "root group (NETCDF4_CLASSIC data model, file format HDF5):\n",
       "    Conventions: CF-1.7\n",
       "    title: Forecast model run\n",
       "    institution: Unidata\n",
       "    source: WRF-1.5\n",
       "    history: 2023-06-15 15:27:12.698554 Python\n",
       "    references: \n",
       "    comment: \n",
       "    dimensions(sizes): forecast_time(0), x(101), y(67), pressure(7)\n",
       "    variables(dimensions): \n",
       "    groups: "
      ]
     },
     "execution_count": 29,
     "metadata": {},
     "output_type": "execute_result"
    }
   ],
   "source": [
    "nc.createDimension('forecast_time', None)\n",
    "nc.createDimension('x', x.size)\n",
    "nc.createDimension('y', y.size)\n",
    "nc.createDimension('pressure', press.size)\n",
    "nc"
   ]
  },
  {
   "cell_type": "code",
   "execution_count": null,
   "metadata": {},
   "outputs": [],
   "source": [
    "netcdf forecast_model {\n",
    "  dimensions:\n",
    "    forecast_time = UNLIMITED (currently 13) ;\n",
    "    x = 101 ;\n",
    "    y = 67 ;\n",
    "    pressure = 7 ;\n",
    "  attributes:\n",
    "    :Conventions = \"CF-1.7\" ;\n",
    "    :title = \"Forecast model run\" ;\n",
    "    :institution = \"Unidata\" ;\n",
    "    :source = \"WRF-1.5\" ;\n",
    "    :history = \"2019-07-16 02:21:52.005718 Python\" ;\n",
    "    :references = \"\" ;\n",
    "    :comment = \"\" ;\n",
    "}"
   ]
  },
  {
   "attachments": {},
   "cell_type": "markdown",
   "metadata": {},
   "source": [
    "### Creating and filling a variable\n",
    "\n",
    "Thus far, we have only added basic information to this netCDF dataset; namely, the dataset dimensions and some broad metadata. As described briefly above, variables are used to define data fields in netCDF files. Here, we create a <span style='color:red'>netCDF4 variable</span> to hold a data field; in this case, the forecast air temperature. In order to create this netCDF4 variable, we must specify the data type of the values in the data field. We also must specify which dimensions contained in the netCDF file are relevant to this data field. Finally, we can specify whether or not to compress the data using a form of <span style='color:red'>zlib</span>."
   ]
  },
  {
   "cell_type": "code",
   "execution_count": 33,
   "metadata": {},
   "outputs": [],
   "source": [
    "temps_var = nc.createVariable(\n",
    "    'Temperature',\n",
    "    datatype=np.float32,\n",
    "    dimensions=('forecast_time', 'pressure', 'y', 'x'),\n",
    "    zlib=True,\n",
    ")"
   ]
  },
  {
   "attachments": {},
   "cell_type": "markdown",
   "metadata": {},
   "source": [
    "We have now created a netCDF4 variable, but it does not yet define a data field. In this example, we use Python to associate our temperature data with the new variable:"
   ]
  },
  {
   "cell_type": "code",
   "execution_count": 34,
   "metadata": {},
   "outputs": [
    {
     "data": {
      "text/plain": [
       "<class 'netCDF4._netCDF4.Variable'>\n",
       "float32 Temperature(forecast_time, pressure, y, x)\n",
       "unlimited dimensions: forecast_time\n",
       "current shape = (13, 7, 67, 101)\n",
       "filling on, default _FillValue of 9.969209968386869e+36 used"
      ]
     },
     "execution_count": 34,
     "metadata": {},
     "output_type": "execute_result"
    }
   ],
   "source": [
    "temps_var[:] = temps\n",
    "temps_var"
   ]
  },
  {
   "attachments": {},
   "cell_type": "markdown",
   "metadata": {},
   "source": [
    "You can also associate data with a variable sporadically. This example illustrates how to only associate one value per time step with the variable created earlier:\n",
    "\n"
   ]
  },
  {
   "cell_type": "code",
   "execution_count": 35,
   "metadata": {},
   "outputs": [],
   "source": [
    "next_slice = 0\n",
    "for temp_slice in temps:\n",
    "    temps_var[next_slice] = temp_slice\n",
    "    next_slice += 1"
   ]
  },
  {
   "attachments": {},
   "cell_type": "markdown",
   "metadata": {},
   "source": [
    "At this point, this is the CDL representation of our dataset:"
   ]
  },
  {
   "cell_type": "code",
   "execution_count": null,
   "metadata": {},
   "outputs": [],
   "source": [
    "netcdf forecast_model {\n",
    "  dimensions:\n",
    "    forecast_time = UNLIMITED (currently 13) ;\n",
    "    x = 101 ;\n",
    "    y = 67 ;\n",
    "    pressure = 7 ;\n",
    "  variables:\n",
    "    float Temperature(forecast_time, pressure, y, x) ;\n",
    "  attributes:\n",
    "    :Conventions = \"CF-1.7\" ;\n",
    "    :title = \"Forecast model run\" ;\n",
    "    :institution = \"Unidata\" ;\n",
    "    :source = \"WRF-1.5\" ;\n",
    "    :history = \"2019-07-16 02:21:52.005718 Python\" ;\n",
    "    :references = \"\" ;\n",
    "    :comment = \"\" ;\n",
    "}"
   ]
  },
  {
   "attachments": {},
   "cell_type": "markdown",
   "metadata": {},
   "source": [
    "We can also define metadata for this variable in the form of attributes; some specific attributes are required by the CF conventions. For example, the CF conventions require a <span style='color:red'>units</span> attribute to be set for all variables that represent a dimensional quantity. In addition, the value of this attribute must be parsable by the UDUNITS library. In this example, the temperatures are in Kelvin, so we set the units attribute to <span style='color:red'>'Kelvin'</span>. Next, we set the <span style='color:red'>long_name</span> and <span style='color:red'>standard_name</span> attributes, which are recommended for most datasets, but optional. The <span style='color:red'>long_name</span> attribute contains a longer and more detailed description of a variable. On the other hand, the <span style='color:red'>standard_name</span> attribute names a variable using descriptive words from a predefined word list contained in the CF conventions. Defining these attributes allows users of your datasets to understand what each variable in a dataset represents. Sometimes, data fields do not have valid data values at every dimension point. In this case, the standard is to use a filler value for these missing data values, and to set the <span style='color:red'>missing_value</span> attribute to this filler value. In this case, however, there are no missing values, so the <span style='color:red'>missing_value</span> attribute can be set to any unused value, or not set at all.\n",
    "\n",
    "There are many different sets of recommendations for attributes on netCDF variables. For example, here is NASA’s set of recommended attributes:\n",
    "\n",
    "#### NASA Dataset Interoperability Recommendations:\n",
    "\n",
    "Section 2.2 - Include Basic CF Attributes\n",
    "\n",
    "Include where applicable: <span style='color:red'>units, long_name, standard_name, valid_min</span> / <span style='color:red'>valid_max, scale_factor</span> / <span style='color:red'>add_offset</span> and others."
   ]
  },
  {
   "cell_type": "code",
   "execution_count": 36,
   "metadata": {},
   "outputs": [
    {
     "data": {
      "text/plain": [
       "<class 'netCDF4._netCDF4.Variable'>\n",
       "float32 Temperature(forecast_time, pressure, y, x)\n",
       "    units: Kelvin\n",
       "    standard_name: air_temperature\n",
       "    long_name: Forecast air temperature\n",
       "    missing_value: -9999.0\n",
       "unlimited dimensions: forecast_time\n",
       "current shape = (13, 7, 67, 101)\n",
       "filling on, default _FillValue of 9.969209968386869e+36 used"
      ]
     },
     "execution_count": 36,
     "metadata": {},
     "output_type": "execute_result"
    }
   ],
   "source": [
    "temps_var.units = 'Kelvin'\n",
    "temps_var.standard_name = 'air_temperature'\n",
    "temps_var.long_name = 'Forecast air temperature'\n",
    "temps_var.missing_value = -9999\n",
    "temps_var"
   ]
  },
  {
   "attachments": {},
   "cell_type": "markdown",
   "metadata": {},
   "source": [
    "Here is the variable section of our dataset’s CDL, with the new attributes added:"
   ]
  },
  {
   "cell_type": "code",
   "execution_count": null,
   "metadata": {},
   "outputs": [],
   "source": [
    "  variables:\n",
    "    float Temperature(forecast_time, pressure, y, x) ;\n",
    "      Temperature:units = \"Kelvin\" ;\n",
    "      Temperature:standard_name = \"air_temperature\" ;\n",
    "      Temperature:long_name = \"Forecast air temperature\" ;\n",
    "      Temperature:missing_value = -9999.0 ;"
   ]
  },
  {
   "attachments": {},
   "cell_type": "markdown",
   "metadata": {},
   "source": [
    "### Coordinate variables\n",
    "\n",
    "Dimensions in a netCDF file only define size and alignment metadata. In order to properly orient data in time and space, it is necessary to create “coordinate variables”, which define data values along each dimension. A coordinate variable is typically created as a one-dimensional variable, and has the same name as the corresponding dimension.\n",
    "\n",
    "To start, we define variables which define our x and y coordinate values. It is recommended to include certain attributes for each coordinate variable. First, you should include a <span style='color:red'>standard_name</span>, which allows for associating the variable with projections, among other things. (Projections will be covered in detail later in this page.) Second, you can include an <span style='color:red'>axis</span> attribute, which clearly defines the spatial or temporal direction referred to by the coordinate variable. This next example demonstrates how to set up these attributes:\n"
   ]
  },
  {
   "cell_type": "code",
   "execution_count": 38,
   "metadata": {},
   "outputs": [],
   "source": [
    "x_var = nc.createVariable('x', np.float32, ('x',))\n",
    "x_var[:] = x\n",
    "x_var.units = 'km'\n",
    "x_var.axis = 'X'  # Optional\n",
    "x_var.standard_name = 'projection_x_coordinate'\n",
    "x_var.long_name = 'x-coordinate in projected coordinate system'\n",
    "\n",
    "y_var = nc.createVariable('y', np.float32, ('y',))\n",
    "y_var[:] = y\n",
    "y_var.units = 'km'\n",
    "y_var.axis = 'Y'  # Optional\n",
    "y_var.standard_name = 'projection_y_coordinate'\n",
    "y_var.long_name = 'y-coordinate in projected coordinate system'"
   ]
  },
  {
   "attachments": {},
   "cell_type": "markdown",
   "metadata": {},
   "source": [
    "Our dataset contains vertical data of air pressure as well, so we must define a coordinate variable for this axis; we can simply call this new variable <span style='color:red'>pressure</span>. Since this axis represents air pressure data, we can set a <span style='color:red'>standard_name</span> of <span style='color:red'>'air_pressure'</span>. With this <span style='color:red'>standard_name</span> attribute set, it should be obvious to users of this dataset that this variable represents a vertical axis, but for extra clarification, we also set the <span style='color:red'>axis</span> attribute as <span style='color:red'>'Z'</span>. We can also specify one more attribute, called <span style='color:red'>positive</span>. This attribute indicates whether the variable values increase or decrease as the dimension values increase. Setting this attribute is optional for some data; air pressure is one example. However, we still set the attribute here, for the sake of completeness."
   ]
  },
  {
   "cell_type": "code",
   "execution_count": 39,
   "metadata": {},
   "outputs": [],
   "source": [
    "press_var = nc.createVariable('pressure', np.float32, ('pressure',))\n",
    "press_var[:] = press\n",
    "press_var.units = 'hPa'\n",
    "press_var.axis = 'Z'  # Optional\n",
    "press_var.standard_name = 'air_pressure'\n",
    "press_var.positive = 'down'  # Optional"
   ]
  },
  {
   "attachments": {},
   "cell_type": "markdown",
   "metadata": {},
   "source": [
    "Time coordinates must contain a <span style='color:red'>units</span> attribute; this attribute is a string value, and must have a form similar to the string<span style='color:red'>'seconds since 2019-01-06 12:00:00.00'</span>. ‘seconds’, ‘minutes’, ‘hours’, and ‘days’ are the most commonly used time intervals in these strings. It is not recommended to use ‘months’ or ‘years’ in time strings, as the length of these time intervals can vary.\n",
    "\n",
    "Before we can write data, we need to first convert our list of Python <span style='color:red'>datetime</span> objects to numeric values usable in time strings. We can perform this conversion by setting a time string in the format described above, then using the <span style='color:red'>date2num</span> method from the <span style='color:red'>cftime</span> library. An example of this is shown below:"
   ]
  },
  {
   "cell_type": "code",
   "execution_count": 40,
   "metadata": {},
   "outputs": [
    {
     "data": {
      "text/plain": [
       "array([22, 23, 24, 25, 26, 27, 28, 29, 30, 31, 32, 33, 34], dtype=int64)"
      ]
     },
     "execution_count": 40,
     "metadata": {},
     "output_type": "execute_result"
    }
   ],
   "source": [
    "time_units = f'hours since {times[0]:%Y-%m-%d 00:00}'\n",
    "time_vals = date2num(times, time_units)\n",
    "time_vals"
   ]
  },
  {
   "attachments": {},
   "cell_type": "markdown",
   "metadata": {},
   "source": [
    "Now that the time string is set up, we have all of the necessary information to set up the attributes for a <span style='color:red'>forecast_time</span> coordinate variable. The creation of this variable is shown in the following example:"
   ]
  },
  {
   "cell_type": "code",
   "execution_count": 41,
   "metadata": {},
   "outputs": [],
   "source": [
    "time_var = nc.createVariable('forecast_time', np.int32, ('forecast_time',))\n",
    "time_var[:] = time_vals\n",
    "time_var.units = time_units\n",
    "time_var.axis = 'T'  # Optional\n",
    "time_var.standard_name = 'time'  # Optional\n",
    "time_var.long_name = 'time'"
   ]
  },
  {
   "attachments": {},
   "cell_type": "markdown",
   "metadata": {},
   "source": [
    "This next example shows the CDL representation of the netCDF file’s variables at this point. It is clear that much more information is now contained in this representation:"
   ]
  },
  {
   "cell_type": "code",
   "execution_count": null,
   "metadata": {},
   "outputs": [],
   "source": [
    "  dimensions:\n",
    "    forecast_time = UNLIMITED (currently 13) ;\n",
    "    x = 101 ;\n",
    "    y = 67 ;\n",
    "    pressure = 7 ;\n",
    "  variables:\n",
    "    float x(x) ;\n",
    "      x:units = \"km\" ;\n",
    "      x:axis = \"X\" ;\n",
    "      x:standard_name = \"projection_x_coordinate\" ;\n",
    "      x:long_name = \"x-coordinate in projected coordinate system\" ;\n",
    "    float y(y) ;\n",
    "      y:units = \"km\" ;\n",
    "      y:axis = \"Y\" ;\n",
    "      y:standard_name = \"projection_y_coordinate\" ;\n",
    "      y:long_name = \"y-coordinate in projected coordinate system\" ;\n",
    "    float pressure(pressure) ;\n",
    "      pressure:units = \"hPa\" ;\n",
    "      pressure:axis = \"Z\" ;\n",
    "      pressure:standard_name = \"air_pressure\" ;\n",
    "      pressure:positive = \"down\" ;\n",
    "    float forecast_time(forecast_time) ;\n",
    "      forecast_time:units = \"hours since 2019-07-16 00:00\" ;\n",
    "      forecast_time:axis = \"T\" ;\n",
    "      forecast_time:standard_name = \"time\" ;\n",
    "      forecast_time:long_name = \"time\" ;\n",
    "    float Temperature(forecast_time, pressure, y, x) ;\n",
    "      Temperature:units = \"Kelvin\" ;\n",
    "      Temperature:standard_name = \"air_temperature\" ;\n",
    "      Temperature:long_name = \"Forecast air temperature\" ;\n",
    "      Temperature:missing_value = -9999.0 ;"
   ]
  },
  {
   "attachments": {},
   "cell_type": "markdown",
   "metadata": {},
   "source": [
    "### Auxiliary Coordinates \n",
    "Our data are still not CF-compliant, because they do not contain latitude and longitude information, which is needed to properly locate the data. In order to add location data to a netCDF file, we must create so-called “auxiliary coordinate variables” for latitude and longitude. (In this case, the word “auxiliary” means that the variables are not simple one-dimensional variables.)\n",
    "\n",
    "In this next example, we use the <span style='color:red'>Proj</span> function, found in the <span style='color:red'>pyproj</span> library, to create projections of our coordinates. We can then use these projections to generate latitude and longitude values for our data."
   ]
  },
  {
   "cell_type": "code",
   "execution_count": 43,
   "metadata": {},
   "outputs": [],
   "source": [
    "X, Y = np.meshgrid(x, y)\n",
    "lcc = Proj({'proj': 'lcc', 'lon_0': -105, 'lat_0': 40, 'a': 6371000.0, 'lat_1': 25})\n",
    "lon, lat = lcc(X * 1000, Y * 1000, inverse=True)"
   ]
  },
  {
   "attachments": {},
   "cell_type": "markdown",
   "metadata": {},
   "source": [
    "Now that we have latitude and longitude values, we can create variables for those values. Both of these variables are two-dimensional; the dimensions in question are y and x. In order to convey that it contains the longitude information, we must set up the longitude variable with a <span style='color:red'>units</span> attribute of <span style='color:red'>'degrees_east'</span>. In addition, we can provide further clarity by setting a <span style='color:red'>standard_name</span> attribute of <span style='color:red'>'longitude'</span>. The case is the same for latitude, except the units are <span style='color:red'>'degrees_north'</span> and the <span style='color:red'>standard_name</span> is <span style='color:red'>'latitude'</span>."
   ]
  },
  {
   "cell_type": "code",
   "execution_count": 44,
   "metadata": {},
   "outputs": [],
   "source": [
    "lon_var = nc.createVariable('lon', np.float64, ('y', 'x'))\n",
    "lon_var[:] = lon\n",
    "lon_var.units = 'degrees_east'\n",
    "lon_var.standard_name = 'longitude'  # Optional\n",
    "lon_var.long_name = 'longitude'\n",
    "\n",
    "lat_var = nc.createVariable('lat', np.float64, ('y', 'x'))\n",
    "lat_var[:] = lat\n",
    "lat_var.units = 'degrees_north'\n",
    "lat_var.standard_name = 'latitude'  # Optional\n",
    "lat_var.long_name = 'latitude'"
   ]
  },
  {
   "attachments": {},
   "cell_type": "markdown",
   "metadata": {},
   "source": [
    "Now that the auxiliary coordinate variables are created, we must identify them as coordinates for the <span style='color:red'>Temperature variable</span>. In order to identify the variables in this way, we set the <span style='color:red'>coordinates</span> attribute of the <span style='color:red'>Temperature</span> variable to a space-separated list of variables to identify, as shown below:"
   ]
  },
  {
   "cell_type": "code",
   "execution_count": 45,
   "metadata": {},
   "outputs": [],
   "source": [
    "temps_var.coordinates = 'lon lat'"
   ]
  },
  {
   "attachments": {},
   "cell_type": "markdown",
   "metadata": {},
   "source": [
    "The portion of the CDL showing the new latitude and longitude variables, as well as the updated <span style='color:red'>Temperature variable</span>, is listed below:\n",
    "\n"
   ]
  },
  {
   "cell_type": "code",
   "execution_count": null,
   "metadata": {},
   "outputs": [],
   "source": [
    "  double lon(y, x);\n",
    "    lon:units = \"degrees_east\";\n",
    "    lon:long_name = \"longitude coordinate\";\n",
    "    lon:standard_name = \"longitude\";\n",
    "  double lat(y, x);\n",
    "    lat:units = \"degrees_north\";\n",
    "    lat:long_name = \"latitude coordinate\";\n",
    "    lat:standard_name = \"latitude\";\n",
    "  float Temperature(time, y, x);\n",
    "    Temperature:units = \"Kelvin\" ;\n",
    "    Temperature:standard_name = \"air_temperature\" ;\n",
    "    Temperature:long_name = \"Forecast air temperature\" ;\n",
    "    Temperature:missing_value = -9999.0 ;\n",
    "    Temperature:coordinates = \"lon lat\";"
   ]
  },
  {
   "attachments": {},
   "cell_type": "markdown",
   "metadata": {},
   "source": [
    "### Coordinate System Information\n",
    "\n",
    "Since the grid containing our data uses a Lambert conformal projection, adding this information to the dataset’s metadata can clear up some possible confusion. We can most easily add this metadata information by making use of a “grid mapping” variable. A grid mapping variable is a “placeholder” variable containing all required grid-mapping information. Other variables that need to access this information can then reference this placeholder variable in their <span style='color:red'>grid_mapping</span> attribute.\n",
    "\n",
    "In this example, we create a grid-mapping variable; this new variable is then set up for a Lambert-conformal conic projection on a spherical globe. By setting this variable’s <span style='color:red'>grid_mapping_name</span> attribute, we can indicate which CF-supported grid mapping this variable refers to. There are additional attributes that can also be set; however, the available options depend on the specific mapping."
   ]
  },
  {
   "cell_type": "code",
   "execution_count": 47,
   "metadata": {},
   "outputs": [
    {
     "data": {
      "text/plain": [
       "<class 'netCDF4._netCDF4.Variable'>\n",
       "int32 lambert_projection()\n",
       "    grid_mapping_name: lambert_conformal_conic\n",
       "    standard_parallel: 25.0\n",
       "    latitude_of_projection_origin: 40.0\n",
       "    longitude_of_central_meridian: -105.0\n",
       "    semi_major_axis: 6371000.0\n",
       "unlimited dimensions: \n",
       "current shape = ()\n",
       "filling on, default _FillValue of -2147483647 used"
      ]
     },
     "execution_count": 47,
     "metadata": {},
     "output_type": "execute_result"
    }
   ],
   "source": [
    "proj_var = nc.createVariable('lambert_projection', np.int32, ())\n",
    "proj_var.grid_mapping_name = 'lambert_conformal_conic'\n",
    "proj_var.standard_parallel = 25.0\n",
    "proj_var.latitude_of_projection_origin = 40.0\n",
    "proj_var.longitude_of_central_meridian = -105.0\n",
    "proj_var.semi_major_axis = 6371000.0\n",
    "proj_var"
   ]
  },
  {
   "attachments": {},
   "cell_type": "markdown",
   "metadata": {},
   "source": [
    "Now that we have created a grid-mapping variable, we can specify the grid mapping by setting the <span style='color:red'>grid_mapping attribute</span> to the variable name. In this example, we set the <span style='color:red'>grid_mapping</span> attribute on the <span style='color:red'>Temperature</span> variable:"
   ]
  },
  {
   "cell_type": "code",
   "execution_count": 48,
   "metadata": {},
   "outputs": [],
   "source": [
    "temps_var.grid_mapping = 'lambert_projection'  # or proj_var.name"
   ]
  },
  {
   "attachments": {},
   "cell_type": "markdown",
   "metadata": {},
   "source": [
    "Here is the portion of the CDL containing the modified <span style='color:red'>Temperature</span> variable, as well as the new grid-mapping <span style='color:red'>lambert_projection</span> variable:\n",
    "\n"
   ]
  },
  {
   "cell_type": "code",
   "execution_count": null,
   "metadata": {},
   "outputs": [],
   "source": [
    "  variables:\n",
    "    int lambert_projection ;\n",
    "      lambert_projection:grid_mapping_name = \"lambert_conformal_conic ;\n",
    "      lambert_projection:standard_parallel = 25.0 ;\n",
    "      lambert_projection:latitude_of_projection_origin = 40.0 ;\n",
    "      lambert_projection:longitude_of_central_meridian = -105.0 ;\n",
    "      lambert_projection:semi_major_axis = 6371000.0 ;\n",
    "    float Temperature(forecast_time, pressure, y, x) ;\n",
    "      Temperature:units = \"Kelvin\" ;\n",
    "      Temperature:standard_name = \"air_temperature\" ;\n",
    "      Temperature:long_name = \"Forecast air temperature\" ;\n",
    "      Temperature:missing_value = -9999.0 ;\n",
    "      Temperature:coordinates = \"lon lat\" ;\n",
    "      Temperature:grid_mapping = \"lambert_projection\" ;"
   ]
  },
  {
   "attachments": {},
   "cell_type": "markdown",
   "metadata": {},
   "source": [
    "### Cell Bounds\n",
    "\n",
    "The use of “bounds” attributes is not required, but highly recommended. Here is a relevant excerpt from the NASA Dataset Interoperability Recommendations:\n",
    "\n",
    "<b>NASA Dataset Interoperability Recommendations:</b>\n",
    "\n",
    "Section 2.3 - Use CF “bounds” attributes\n",
    "\n",
    "CF conventions state: “When gridded data does not represent the point values of a field but instead represents some characteristic of the field within cells of finite ‘volume,’ a complete description of the variable should include metadata that describes the domain or extent of each cell, and the characteristic of the field that the cell values represent.”\n",
    "\n",
    "In this set of examples, consider a rain gauge which is read every three hours, but only dumped every six hours. The netCDF file for this gauge’s data readings might look like this:"
   ]
  },
  {
   "cell_type": "code",
   "execution_count": null,
   "metadata": {},
   "outputs": [],
   "source": [
    "netcdf precip_bucket_bounds {\n",
    "  dimensions:\n",
    "      lat = 12 ;\n",
    "      lon = 19 ;\n",
    "      time = 8 ;\n",
    "      tbv = 2;\n",
    "  variables:\n",
    "      float lat(lat) ;\n",
    "      float lon(lon) ;\n",
    "      float time(time) ;\n",
    "        time:units = \"hours since 2019-07-12 00:00:00.00\";\n",
    "        time:bounds = \"time_bounds\" ;\n",
    "      float time_bounds(time,tbv)\n",
    "      float precip(time, lat, lon) ;\n",
    "        precip:units = \"inches\" ;\n",
    "  data:\n",
    "    time = 3, 6, 9, 12, 15, 18, 21, 24;\n",
    "    time_bounds = 0, 3, 0, 6, 6, 9, 6, 12, 12, 15, 12, 18, 18, 21, 18, 24;\n",
    "}"
   ]
  },
  {
   "attachments": {},
   "cell_type": "markdown",
   "metadata": {},
   "source": [
    "Considering the coordinate variable for time, and the <span style='color:red'>bounds</span> attribute set for this variable, the below graph illustrates the times of the gauge’s data readings:"
   ]
  },
  {
   "cell_type": "code",
   "execution_count": null,
   "metadata": {},
   "outputs": [],
   "source": [
    "|---X\n",
    "|-------X\n",
    "        |---X\n",
    "        |-------X\n",
    "                |---X\n",
    "                |-------X\n",
    "                        |---X\n",
    "                        |-------X\n",
    "0   3   6   9  12  15  18  21  24"
   ]
  },
  {
   "attachments": {},
   "cell_type": "markdown",
   "metadata": {},
   "source": [
    "## Observational Data\n",
    "\n",
    "Thus far, we have only worked with data arranged on grids. One common type of data, called “in-situ” or “observational” data, is usually arranged in other ways. The CF conventions for this type of data are called <i>Conventions for DSG (Discrete Sampling Geometries)</i>.\n",
    "\n",
    "For data that are regularly sampled (e.g., from a vertical profiler site), this is straightforward. For these examples, we will be using vertical profile data from three hypothetical profilers, located in Boulder, Norman, and Albany. These hypothetical profilers report data for every 10 m of altitude, from altitudes of 10 m up to (but not including) 1000 m. This first example illustrates how to set up latitude, longitude, altitude, and other necessary data for these profilers:"
   ]
  },
  {
   "cell_type": "code",
   "execution_count": 51,
   "metadata": {},
   "outputs": [],
   "source": [
    "lons = np.array([-97.1, -105, -73.8])\n",
    "lats = np.array([35.25, 40, 42.75])\n",
    "heights = np.linspace(10, 1000, 10)\n",
    "temps = np.random.randn(lats.size, heights.size)\n",
    "stids = ['KBOU', 'KOUN', 'KALB']"
   ]
  },
  {
   "attachments": {},
   "cell_type": "markdown",
   "metadata": {},
   "source": [
    "### Creation and basic setup\n",
    "\n",
    "First, we create a new netCDF file, and define dimensions for it, corresponding to altitude and latitude. Since we are working with observational profile data, we define these dimensions as <span style='color:red'>heights</span> and <span style='color:red'>station</span>. We then set the global <span style='color:red'>featureType</span> attribute to <span style='color:red'>'profile'</span>, which defines the file as holding profile data. In these examples, the term “profile data” is defined as “an ordered set of data points along a vertical line at a fixed horizontal position and fixed time”. In addition, we define a placeholder dimension called str_len, which helps with storing station IDs as strings."
   ]
  },
  {
   "cell_type": "code",
   "execution_count": 52,
   "metadata": {},
   "outputs": [
    {
     "data": {
      "text/plain": [
       "<class 'netCDF4._netCDF4.Dataset'>\n",
       "root group (NETCDF4_CLASSIC data model, file format HDF5):\n",
       "    Conventions: CF-1.7\n",
       "    featureType: profile\n",
       "    dimensions(sizes): station(3), heights(10), str_len(4)\n",
       "    variables(dimensions): \n",
       "    groups: "
      ]
     },
     "execution_count": 52,
     "metadata": {},
     "output_type": "execute_result"
    }
   ],
   "source": [
    "nc.close()\n",
    "nc = Dataset('obs_data.nc', 'w', format='NETCDF4_CLASSIC', diskless=True)\n",
    "nc.createDimension('station', lats.size)\n",
    "nc.createDimension('heights', heights.size)\n",
    "nc.createDimension('str_len', 4)\n",
    "nc.Conventions = 'CF-1.7'\n",
    "nc.featureType = 'profile'\n",
    "nc"
   ]
  },
  {
   "attachments": {},
   "cell_type": "markdown",
   "metadata": {},
   "source": [
    "After this initial setup, the current state of our netCDF file is described in the following CDL:"
   ]
  },
  {
   "cell_type": "code",
   "execution_count": null,
   "metadata": {},
   "outputs": [],
   "source": [
    "netcdf obs_data {\n",
    "  dimensions:\n",
    "    station = 3 ;\n",
    "    heights = 10 ;\n",
    "    str_len = 4 ;\n",
    "  attributes:\n",
    "    :Conventions = \"CF-1.7\" ;\n",
    "    :featureType = \"profile\" ;\n",
    "}"
   ]
  },
  {
   "attachments": {},
   "cell_type": "markdown",
   "metadata": {},
   "source": [
    "This example illustrates the setup of coordinate variables for latitude and longitude:"
   ]
  },
  {
   "cell_type": "code",
   "execution_count": 53,
   "metadata": {},
   "outputs": [],
   "source": [
    "lon_var = nc.createVariable('lon', np.float64, ('station',))\n",
    "lon_var.units = 'degrees_east'\n",
    "lon_var.standard_name = 'longitude'\n",
    "\n",
    "lat_var = nc.createVariable('lat', np.float64, ('station',))\n",
    "lat_var.units = 'degrees_north'\n",
    "lat_var.standard_name = 'latitude'"
   ]
  },
  {
   "attachments": {},
   "cell_type": "markdown",
   "metadata": {},
   "source": [
    "When a coordinate variable refers to an instance of a feature, netCDF standards refer to it as an “instance variable”. The latitude and longitude coordinate variables declared above are examples of instance variables. In this next example, we create an instance variable for altitude, referred to here as <span style='color:red'>heights</span>:"
   ]
  },
  {
   "cell_type": "code",
   "execution_count": 54,
   "metadata": {},
   "outputs": [],
   "source": [
    "heights_var = nc.createVariable('heights', np.float32, ('heights',))\n",
    "heights_var.units = 'meters'\n",
    "heights_var.standard_name = 'altitude'\n",
    "heights_var.positive = 'up'\n",
    "heights_var[:] = heights"
   ]
  },
  {
   "attachments": {},
   "cell_type": "markdown",
   "metadata": {},
   "source": [
    "### Station IDs\n",
    "\n",
    "Using the placeholder dimension defined earlier, we can write the station IDs of our profilers to a variable as well. The variable used to store these station IDs is two-dimensional; however, one of these dimensions only holds metadata designed to aid in converting strings to character arrays. We can also assign the attribute <span style='color:red'>cf_role</span> to this variable, with a value of <span style='color:red'>'profile_id'</span>. If certain software programs read this netCDF file, this attribute assists in identifying individual profiles."
   ]
  },
  {
   "cell_type": "code",
   "execution_count": 55,
   "metadata": {},
   "outputs": [],
   "source": [
    "stid_var = nc.createVariable('stid', 'c', ('station', 'str_len'))\n",
    "stid_var.cf_role = 'profile_id'\n",
    "stid_var.long_name = 'Station identifier'\n",
    "stid_var[:] = stids"
   ]
  },
  {
   "attachments": {},
   "cell_type": "markdown",
   "metadata": {},
   "source": [
    "After adding station ID information, our file’s updated CDL should resemble this example:"
   ]
  },
  {
   "cell_type": "code",
   "execution_count": null,
   "metadata": {},
   "outputs": [],
   "source": [
    "netcdf obs_data {\n",
    "  dimensions:\n",
    "    station = 3 ;\n",
    "    heights = 10 ;\n",
    "    str_len = 4 ;\n",
    "  variables:\n",
    "    double lon(station) ;\n",
    "      lon:units = \"degrees_east\" ;\n",
    "      lon:standard_name = \"longitude\" ;\n",
    "    double lat(station) ;\n",
    "      lat:units = \"degrees_north\" ;\n",
    "      lat:standard_name = \"latitude\" ;\n",
    "    float heights(heights) ;\n",
    "      heights:units = \"meters\" ;\n",
    "      heights:standard_name = \"altitude\";\n",
    "      heights:positive = \"up\" ;\n",
    "    char stid(station, str_len) ;\n",
    "      stid:cf_role = \"profile_id\" ;\n",
    "      stid:long_name = \"Station identifier\" ;\n",
    "  attributes:\n",
    "    :Conventions = \"CF-1.7\" ;\n",
    "    :featureType = \"profile\" ;\n",
    "}"
   ]
  },
  {
   "attachments": {},
   "cell_type": "markdown",
   "metadata": {},
   "source": [
    "### Writing the field\n",
    "\n",
    "The final setup step for this netCDF file is to write our actual profile data to the file. In addition, we add an additional scalar variable, which holds the time of data capture for each profile:"
   ]
  },
  {
   "cell_type": "code",
   "execution_count": 56,
   "metadata": {},
   "outputs": [],
   "source": [
    "time_var = nc.createVariable('time', np.float32, ())\n",
    "time_var.units = 'minutes since 2019-07-16 17:00'\n",
    "time_var.standard_name = 'time'\n",
    "time_var[:] = [5.0]\n",
    "\n",
    "temp_var = nc.createVariable('temperature', np.float32, ('station', 'heights'))\n",
    "temp_var.units = 'celsius'\n",
    "temp_var.standard_name = 'air_temperature'\n",
    "temp_var.coordinates = 'lon lat heights time'"
   ]
  },
  {
   "attachments": {},
   "cell_type": "markdown",
   "metadata": {},
   "source": [
    "The auxiliary coordinate variables in this netCDF file are not proper coordinate variables, and are all associated with the <span style='color:red'>station</span> dimension. Therefore, the names of these variables must be listed in an attribute called <span style='color:red'>coordinates</span>. The final CDL of the variables, including the <span style='color:red'>coordinates</span> attribute, is shown below:"
   ]
  },
  {
   "cell_type": "code",
   "execution_count": null,
   "metadata": {},
   "outputs": [],
   "source": [
    "  variables:\n",
    "    double lon(station) ;\n",
    "      lon:units = \"degrees_east\" ;\n",
    "      lon:standard_name = \"longitude\" ;\n",
    "    double lat(station) ;\n",
    "      lat:units = \"degrees_north\" ;\n",
    "      lat:standard_name = \"latitude\" ;\n",
    "    float heights(heights) ;\n",
    "      heights:units = \"meters\" ;\n",
    "      heights:standard_name = \"altitude\";\n",
    "      heights:positive = \"up\" ;\n",
    "    char stid(station, str_len) ;\n",
    "      stid:cf_role = \"profile_id\" ;\n",
    "      stid:long_name = \"Station identifier\" ;\n",
    "    float time ;\n",
    "      time:units = \"minutes since 2019-07-16 17:00\" ;\n",
    "      time:standard_name = \"time\" ;\n",
    "    float temperature(station, heights) ;\n",
    "      temperature:units = \"celsius\" ;\n",
    "      temperature:standard_name = \"air_temperature\" ;\n",
    "      temperature:coordinates = \"lon lat heights time\" ;"
   ]
  },
  {
   "attachments": {},
   "cell_type": "markdown",
   "metadata": {},
   "source": [
    "These standards for storing DSG data in netCDF files can be used for profiler data, as shown in these examples, as well as timeseries and trajectory data, and any combination of these types of data models. You can also use these standards for datasets with differing amounts of data in each feature, using so-called “ragged” arrays. For more information on ragged arrays, or other elements of the CF DSG standards, see the main documentation page, or try some of the annotated DSG examples(http://cfconventions.org/Data/cf-conventions/cf-conventions-1.7/cf-conventions.html#appendix-examples-discrete-geometries)."
   ]
  }
 ],
 "metadata": {
  "kernelspec": {
   "display_name": "pythia",
   "language": "python",
   "name": "python3"
  },
  "language_info": {
   "codemirror_mode": {
    "name": "ipython",
    "version": 3
   },
   "file_extension": ".py",
   "mimetype": "text/x-python",
   "name": "python",
   "nbconvert_exporter": "python",
   "pygments_lexer": "ipython3",
   "version": "3.10.11"
  },
  "orig_nbformat": 4
 },
 "nbformat": 4,
 "nbformat_minor": 2
}
